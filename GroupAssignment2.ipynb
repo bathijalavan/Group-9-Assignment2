{
 "cells": [
  {
   "cell_type": "markdown",
   "metadata": {},
   "source": [
    "# Group Assignment 2\n",
    "\n",
    "### Group 9's  ER diagram is based off of American Football and the relationships present between attributes of the game. There are a lot of factors that play into football which take place off the field of play and we felt that such information could be utilized to help predict the outcome of a future game; much like the movie Money-ball. We set up our ER diagram to reflect the categories of data we felt were most important to such a prediction: If the game is home or away, which athletes are going to be represented and how the team has preformed in the past. Beyond this we needed to look into the relationships present between the data; by identifying the connectivity of our tables were then able to look at the types of relationship present. For example GameNumber in both our games won and games lost tables is used in reference to the home and away game tables in order to sort where the game was in addition to its outcome. Since such a connectivity is not mandatory and not all information will be pulled from a single table but instead form a mix of the four they have an optional many to one connectivity. In addition we also wanted to be able to look at how individual players make a difference based on who is and is not present on the playing field in addition to their likelihood of being part of a win when seeing playing time. By combining team history with player history we get a better look at who is on the field and how they directly affect the outcome of the game in terms of a win or loss. This kind of breakdown is furthered by looking at the cardinality of our data sets since it also gives us a more holistic sense of how elements of our tables relate as well as some insight into their constraints.\n",
    "\n",
    "<img style=\"width:480px;max-width:100%;|\" src=\"GroupAssignment2.jpg\" alt=\"GroupAssignment 2\" title=\"GroupAssignment2\"/>"
   ]
  }
 ],
 "metadata": {
  "kernelspec": {
   "display_name": "Python 3",
   "language": "python",
   "name": "python3"
  },
  "language_info": {
   "codemirror_mode": {
    "name": "ipython",
    "version": 3
   },
   "file_extension": ".py",
   "mimetype": "text/x-python",
   "name": "python",
   "nbconvert_exporter": "python",
   "pygments_lexer": "ipython3",
   "version": "3.7.3"
  }
 },
 "nbformat": 4,
 "nbformat_minor": 2
}
